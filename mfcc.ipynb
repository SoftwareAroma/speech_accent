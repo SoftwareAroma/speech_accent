{
 "cells": [
  {
   "cell_type": "code",
   "execution_count": 1,
   "metadata": {},
   "outputs": [],
   "source": [
    "import gc\n",
    "import torch\n",
    "import torchaudio\n",
    "import librosa\n",
    "import keras\n",
    "import numpy as np\n",
    "import torch.nn as nn\n",
    "import pandas as pd\n",
    "import matplotlib.pyplot as plt\n",
    "from torchsummary import summary\n",
    "from tqdm import tqdm\n",
    "from sklearn.preprocessing import MinMaxScaler\n",
    "from imblearn.over_sampling import RandomOverSampler\n",
    "from imblearn.under_sampling import RandomUnderSampler\n",
    "from collections import Counter\n",
    "from sklearn.metrics import roc_auc_score\n",
    "from sklearn.model_selection import train_test_split\n",
    "from torch.utils.data import DataLoader, Dataset\n",
    "import warnings\n",
    "\n",
    "tqdm.pandas()\n",
    "# suppress all warnings\n",
    "warnings.filterwarnings(\"ignore\")"
   ]
  },
  {
   "cell_type": "code",
   "execution_count": 2,
   "metadata": {},
   "outputs": [],
   "source": [
    "RATE_HZ = 16000 # resampling rate in Hz\n",
    "MAX_LENGTH = 128000 # maximum audio interval length to consider (= RATE_HZ * SECONDS)\n",
    "CSV_FILE_PATH: str = \"bio_metadata.csv\"\n",
    "NATIVE_FILE_PATH: str = \"native_bio_metadata.csv\"\n",
    "ALL_SPEAKERS_PATH: str = \"speakers_all.csv\"\n",
    "NON_NATIVE_FILE_PATH: str = \"non_native_bio_metadata.csv\"\n",
    "COL_SIZE: int = 30\n",
    "SILENCE_THRESHOLD: float = .01\n",
    "RATE: int = 2400\n",
    "N_MFCC: int = 13"
   ]
  },
  {
   "cell_type": "code",
   "execution_count": 3,
   "metadata": {},
   "outputs": [],
   "source": [
    "# extract acoustic features from audio files function\n",
    "def extract_mfcc_features(file_name):\n",
    "    try:\n",
    "        audio, sample_rate = librosa.load(file_name)\n",
    "        mfccs = librosa.feature.mfcc(y=audio, sr=sample_rate, n_mfcc=N_MFCC)\n",
    "        mfccs_processed = np.mean(mfccs.T, axis=0)\n",
    "    except Exception as e:\n",
    "        print(\"Error encountered while parsing file: \", file_name)\n",
    "        return None\n",
    "    return mfccs_processed"
   ]
  },
  {
   "cell_type": "code",
   "execution_count": 4,
   "metadata": {},
   "outputs": [],
   "source": [
    "# get wav from file function\n",
    "def get_wav(file_name):\n",
    "    try:\n",
    "        audio, sample_rate = librosa.load(f'./data/audio/{file_name}.wav')\n",
    "        return librosa.core.resample(y=audio, orig_sr=sample_rate, target_sr=RATE, scale=True)\n",
    "    except Exception as e:\n",
    "        print(\"Error encountered while parsing file: \", file_name)\n",
    "        return None\n",
    "\n",
    "# convert wave to mfcc function\n",
    "def wave_to_mfcc(audio, sample_rate):\n",
    "    try:\n",
    "        mfccs = librosa.feature.mfcc(y=audio, sr=sample_rate, n_mfcc=N_MFCC)\n",
    "        mfccs_processed = np.mean(mfccs.T, axis=0)\n",
    "    except Exception as e:\n",
    "        print(\"Error encountered while parsing audio\")\n",
    "        return None\n",
    "    return mfccs_processed\n",
    "\n",
    "# normalize mfcc function\n",
    "def normalize_mfcc(mfcc):\n",
    "    mms = MinMaxScaler()\n",
    "    return mms.fit_transform(np.abs(mfcc))\n",
    "\n",
    "# to categorical function\n",
    "def to_categorical(y):\n",
    "    lang_dict = {}\n",
    "    for index, language in enumerate(set(y)):\n",
    "        lang_dict[language] = index\n",
    "    y = list(map(lambda x: lang_dict[x],y))\n",
    "    return keras.utils.to_categorical(y, len(lang_dict)), lang_dict\n"
   ]
  },
  {
   "cell_type": "code",
   "execution_count": 5,
   "metadata": {},
   "outputs": [
    {
     "data": {
      "text/html": [
       "<div>\n",
       "<style scoped>\n",
       "    .dataframe tbody tr th:only-of-type {\n",
       "        vertical-align: middle;\n",
       "    }\n",
       "\n",
       "    .dataframe tbody tr th {\n",
       "        vertical-align: top;\n",
       "    }\n",
       "\n",
       "    .dataframe thead th {\n",
       "        text-align: right;\n",
       "    }\n",
       "</style>\n",
       "<table border=\"1\" class=\"dataframe\">\n",
       "  <thead>\n",
       "    <tr style=\"text-align: right;\">\n",
       "      <th></th>\n",
       "      <th>href</th>\n",
       "      <th>language_num</th>\n",
       "      <th>sex</th>\n",
       "      <th>birth_place</th>\n",
       "      <th>native_language</th>\n",
       "      <th>other_languages</th>\n",
       "      <th>age_sex</th>\n",
       "      <th>age_of_english_onset</th>\n",
       "      <th>english_learning_method</th>\n",
       "      <th>english_residence</th>\n",
       "      <th>length_of_english_residence</th>\n",
       "      <th>age</th>\n",
       "    </tr>\n",
       "  </thead>\n",
       "  <tbody>\n",
       "    <tr>\n",
       "      <th>0</th>\n",
       "      <td>http://accent.gmu.edu/browse_language.php?func...</td>\n",
       "      <td>mandarin1</td>\n",
       "      <td>female</td>\n",
       "      <td>['shanxi,', 'china']</td>\n",
       "      <td>mandarin\\n(cmn)</td>\n",
       "      <td>['none']</td>\n",
       "      <td>['26,', 'female', '']</td>\n",
       "      <td>13.0</td>\n",
       "      <td>academic</td>\n",
       "      <td>usa</td>\n",
       "      <td>2.0</td>\n",
       "      <td>26.0</td>\n",
       "    </tr>\n",
       "    <tr>\n",
       "      <th>1</th>\n",
       "      <td>http://accent.gmu.edu/browse_language.php?func...</td>\n",
       "      <td>mandarin2</td>\n",
       "      <td>female</td>\n",
       "      <td>['nanjing,', 'china']</td>\n",
       "      <td>mandarin\\n(cmn)</td>\n",
       "      <td>['japanese', '']</td>\n",
       "      <td>['38,', 'female', '']</td>\n",
       "      <td>14.0</td>\n",
       "      <td>academic</td>\n",
       "      <td>usa</td>\n",
       "      <td>0.8</td>\n",
       "      <td>38.0</td>\n",
       "    </tr>\n",
       "    <tr>\n",
       "      <th>2</th>\n",
       "      <td>http://accent.gmu.edu/browse_language.php?func...</td>\n",
       "      <td>mandarin3</td>\n",
       "      <td>male</td>\n",
       "      <td>['jilin,', 'china']</td>\n",
       "      <td>mandarin\\n(cmn)</td>\n",
       "      <td>['italian', 'german', 'french', '']</td>\n",
       "      <td>['43,', 'male', '']</td>\n",
       "      <td>10.0</td>\n",
       "      <td>academic</td>\n",
       "      <td>usa</td>\n",
       "      <td>14.0</td>\n",
       "      <td>43.0</td>\n",
       "    </tr>\n",
       "    <tr>\n",
       "      <th>3</th>\n",
       "      <td>http://accent.gmu.edu/browse_language.php?func...</td>\n",
       "      <td>mandarin4</td>\n",
       "      <td>female</td>\n",
       "      <td>['shanghai,', 'china']</td>\n",
       "      <td>mandarin\\n(cmn)</td>\n",
       "      <td>['japanese', '']</td>\n",
       "      <td>['24,', 'female', '']</td>\n",
       "      <td>6.0</td>\n",
       "      <td>academic</td>\n",
       "      <td>usa</td>\n",
       "      <td>1.0</td>\n",
       "      <td>24.0</td>\n",
       "    </tr>\n",
       "    <tr>\n",
       "      <th>4</th>\n",
       "      <td>http://accent.gmu.edu/browse_language.php?func...</td>\n",
       "      <td>mandarin5</td>\n",
       "      <td>female</td>\n",
       "      <td>['beijing,', 'china']</td>\n",
       "      <td>mandarin\\n(cmn)</td>\n",
       "      <td>['none']</td>\n",
       "      <td>['31,', 'female', '']</td>\n",
       "      <td>12.0</td>\n",
       "      <td>academic</td>\n",
       "      <td>usa</td>\n",
       "      <td>2.0</td>\n",
       "      <td>31.0</td>\n",
       "    </tr>\n",
       "  </tbody>\n",
       "</table>\n",
       "</div>"
      ],
      "text/plain": [
       "                                                href language_num     sex  \\\n",
       "0  http://accent.gmu.edu/browse_language.php?func...    mandarin1  female   \n",
       "1  http://accent.gmu.edu/browse_language.php?func...    mandarin2  female   \n",
       "2  http://accent.gmu.edu/browse_language.php?func...    mandarin3    male   \n",
       "3  http://accent.gmu.edu/browse_language.php?func...    mandarin4  female   \n",
       "4  http://accent.gmu.edu/browse_language.php?func...    mandarin5  female   \n",
       "\n",
       "              birth_place  native_language  \\\n",
       "0    ['shanxi,', 'china']  mandarin\\n(cmn)   \n",
       "1   ['nanjing,', 'china']  mandarin\\n(cmn)   \n",
       "2     ['jilin,', 'china']  mandarin\\n(cmn)   \n",
       "3  ['shanghai,', 'china']  mandarin\\n(cmn)   \n",
       "4   ['beijing,', 'china']  mandarin\\n(cmn)   \n",
       "\n",
       "                       other_languages                age_sex  \\\n",
       "0                             ['none']  ['26,', 'female', '']   \n",
       "1                     ['japanese', '']  ['38,', 'female', '']   \n",
       "2  ['italian', 'german', 'french', '']    ['43,', 'male', '']   \n",
       "3                     ['japanese', '']  ['24,', 'female', '']   \n",
       "4                             ['none']  ['31,', 'female', '']   \n",
       "\n",
       "   age_of_english_onset english_learning_method english_residence  \\\n",
       "0                  13.0                academic               usa   \n",
       "1                  14.0                academic               usa   \n",
       "2                  10.0                academic               usa   \n",
       "3                   6.0                academic               usa   \n",
       "4                  12.0                academic               usa   \n",
       "\n",
       "   length_of_english_residence   age  \n",
       "0                          2.0  26.0  \n",
       "1                          0.8  38.0  \n",
       "2                         14.0  43.0  \n",
       "3                          1.0  24.0  \n",
       "4                          2.0  31.0  "
      ]
     },
     "execution_count": 5,
     "metadata": {},
     "output_type": "execute_result"
    }
   ],
   "source": [
    "# load the native_bio_metadata.csv\n",
    "native_bio_metadata = pd.read_csv(NATIVE_FILE_PATH)\n",
    "native_bio_metadata.head()"
   ]
  },
  {
   "cell_type": "code",
   "execution_count": 6,
   "metadata": {},
   "outputs": [
    {
     "data": {
      "text/html": [
       "<div>\n",
       "<style scoped>\n",
       "    .dataframe tbody tr th:only-of-type {\n",
       "        vertical-align: middle;\n",
       "    }\n",
       "\n",
       "    .dataframe tbody tr th {\n",
       "        vertical-align: top;\n",
       "    }\n",
       "\n",
       "    .dataframe thead th {\n",
       "        text-align: right;\n",
       "    }\n",
       "</style>\n",
       "<table border=\"1\" class=\"dataframe\">\n",
       "  <thead>\n",
       "    <tr style=\"text-align: right;\">\n",
       "      <th></th>\n",
       "      <th>language_num</th>\n",
       "      <th>sex</th>\n",
       "      <th>native_language</th>\n",
       "      <th>english_residence</th>\n",
       "    </tr>\n",
       "  </thead>\n",
       "  <tbody>\n",
       "    <tr>\n",
       "      <th>0</th>\n",
       "      <td>mandarin1</td>\n",
       "      <td>female</td>\n",
       "      <td>mandarin\\n(cmn)</td>\n",
       "      <td>usa</td>\n",
       "    </tr>\n",
       "    <tr>\n",
       "      <th>1</th>\n",
       "      <td>mandarin2</td>\n",
       "      <td>female</td>\n",
       "      <td>mandarin\\n(cmn)</td>\n",
       "      <td>usa</td>\n",
       "    </tr>\n",
       "    <tr>\n",
       "      <th>2</th>\n",
       "      <td>mandarin3</td>\n",
       "      <td>male</td>\n",
       "      <td>mandarin\\n(cmn)</td>\n",
       "      <td>usa</td>\n",
       "    </tr>\n",
       "    <tr>\n",
       "      <th>3</th>\n",
       "      <td>mandarin4</td>\n",
       "      <td>female</td>\n",
       "      <td>mandarin\\n(cmn)</td>\n",
       "      <td>usa</td>\n",
       "    </tr>\n",
       "    <tr>\n",
       "      <th>4</th>\n",
       "      <td>mandarin5</td>\n",
       "      <td>female</td>\n",
       "      <td>mandarin\\n(cmn)</td>\n",
       "      <td>usa</td>\n",
       "    </tr>\n",
       "  </tbody>\n",
       "</table>\n",
       "</div>"
      ],
      "text/plain": [
       "  language_num     sex  native_language english_residence\n",
       "0    mandarin1  female  mandarin\\n(cmn)               usa\n",
       "1    mandarin2  female  mandarin\\n(cmn)               usa\n",
       "2    mandarin3    male  mandarin\\n(cmn)               usa\n",
       "3    mandarin4  female  mandarin\\n(cmn)               usa\n",
       "4    mandarin5  female  mandarin\\n(cmn)               usa"
      ]
     },
     "execution_count": 6,
     "metadata": {},
     "output_type": "execute_result"
    }
   ],
   "source": [
    "# drop href, age_sex, age_of_english_onset, other_languages, birthplace\n",
    "native_bio_metadata.drop(columns=['href', 'age', 'age_of_english_onset', 'other_languages', 'birth_place', 'age_sex', 'length_of_english_residence', 'english_learning_method'], inplace=True)\n",
    "native_bio_metadata.head()"
   ]
  },
  {
   "cell_type": "code",
   "execution_count": 7,
   "metadata": {},
   "outputs": [
    {
     "data": {
      "text/html": [
       "<div>\n",
       "<style scoped>\n",
       "    .dataframe tbody tr th:only-of-type {\n",
       "        vertical-align: middle;\n",
       "    }\n",
       "\n",
       "    .dataframe tbody tr th {\n",
       "        vertical-align: top;\n",
       "    }\n",
       "\n",
       "    .dataframe thead th {\n",
       "        text-align: right;\n",
       "    }\n",
       "</style>\n",
       "<table border=\"1\" class=\"dataframe\">\n",
       "  <thead>\n",
       "    <tr style=\"text-align: right;\">\n",
       "      <th></th>\n",
       "      <th>language_num</th>\n",
       "      <th>sex</th>\n",
       "      <th>native_language</th>\n",
       "      <th>english_residence</th>\n",
       "    </tr>\n",
       "  </thead>\n",
       "  <tbody>\n",
       "    <tr>\n",
       "      <th>count</th>\n",
       "      <td>1224</td>\n",
       "      <td>1224</td>\n",
       "      <td>1224</td>\n",
       "      <td>1224</td>\n",
       "    </tr>\n",
       "    <tr>\n",
       "      <th>unique</th>\n",
       "      <td>1169</td>\n",
       "      <td>2</td>\n",
       "      <td>27</td>\n",
       "      <td>3</td>\n",
       "    </tr>\n",
       "    <tr>\n",
       "      <th>top</th>\n",
       "      <td>english578</td>\n",
       "      <td>female</td>\n",
       "      <td>english\\n(eng)</td>\n",
       "      <td>usa</td>\n",
       "    </tr>\n",
       "    <tr>\n",
       "      <th>freq</th>\n",
       "      <td>3</td>\n",
       "      <td>635</td>\n",
       "      <td>604</td>\n",
       "      <td>1031</td>\n",
       "    </tr>\n",
       "  </tbody>\n",
       "</table>\n",
       "</div>"
      ],
      "text/plain": [
       "       language_num     sex native_language english_residence\n",
       "count          1224    1224            1224              1224\n",
       "unique         1169       2              27                 3\n",
       "top      english578  female  english\\n(eng)               usa\n",
       "freq              3     635             604              1031"
      ]
     },
     "execution_count": 7,
     "metadata": {},
     "output_type": "execute_result"
    }
   ],
   "source": [
    "# describe the native_bio_metadata\n",
    "native_bio_metadata.describe()"
   ]
  },
  {
   "cell_type": "code",
   "execution_count": 8,
   "metadata": {},
   "outputs": [
    {
     "data": {
      "text/html": [
       "<div>\n",
       "<style scoped>\n",
       "    .dataframe tbody tr th:only-of-type {\n",
       "        vertical-align: middle;\n",
       "    }\n",
       "\n",
       "    .dataframe tbody tr th {\n",
       "        vertical-align: top;\n",
       "    }\n",
       "\n",
       "    .dataframe thead th {\n",
       "        text-align: right;\n",
       "    }\n",
       "</style>\n",
       "<table border=\"1\" class=\"dataframe\">\n",
       "  <thead>\n",
       "    <tr style=\"text-align: right;\">\n",
       "      <th></th>\n",
       "      <th>language_num</th>\n",
       "      <th>sex</th>\n",
       "      <th>native_language</th>\n",
       "      <th>english_residence</th>\n",
       "    </tr>\n",
       "  </thead>\n",
       "  <tbody>\n",
       "    <tr>\n",
       "      <th>319</th>\n",
       "      <td>english45</td>\n",
       "      <td>male</td>\n",
       "      <td>english\\n(eng)</td>\n",
       "      <td>usa</td>\n",
       "    </tr>\n",
       "    <tr>\n",
       "      <th>862</th>\n",
       "      <td>german30</td>\n",
       "      <td>female</td>\n",
       "      <td>german\\n(deu)</td>\n",
       "      <td>usa</td>\n",
       "    </tr>\n",
       "    <tr>\n",
       "      <th>1206</th>\n",
       "      <td>french7</td>\n",
       "      <td>male</td>\n",
       "      <td>french\\n(fra)</td>\n",
       "      <td>canada</td>\n",
       "    </tr>\n",
       "    <tr>\n",
       "      <th>689</th>\n",
       "      <td>english553</td>\n",
       "      <td>male</td>\n",
       "      <td>english\\n(eng)</td>\n",
       "      <td>usa</td>\n",
       "    </tr>\n",
       "    <tr>\n",
       "      <th>1171</th>\n",
       "      <td>english238</td>\n",
       "      <td>female</td>\n",
       "      <td>english\\n(eng)</td>\n",
       "      <td>canada</td>\n",
       "    </tr>\n",
       "    <tr>\n",
       "      <th>280</th>\n",
       "      <td>arabic189</td>\n",
       "      <td>female</td>\n",
       "      <td>arabic\\n(ars)</td>\n",
       "      <td>usa</td>\n",
       "    </tr>\n",
       "    <tr>\n",
       "      <th>984</th>\n",
       "      <td>korean97</td>\n",
       "      <td>female</td>\n",
       "      <td>korean\\n(kor)</td>\n",
       "      <td>usa</td>\n",
       "    </tr>\n",
       "    <tr>\n",
       "      <th>456</th>\n",
       "      <td>english234</td>\n",
       "      <td>male</td>\n",
       "      <td>english\\n(eng)</td>\n",
       "      <td>usa</td>\n",
       "    </tr>\n",
       "    <tr>\n",
       "      <th>812</th>\n",
       "      <td>french37</td>\n",
       "      <td>male</td>\n",
       "      <td>french\\n(fra)</td>\n",
       "      <td>usa</td>\n",
       "    </tr>\n",
       "    <tr>\n",
       "      <th>816</th>\n",
       "      <td>french49</td>\n",
       "      <td>male</td>\n",
       "      <td>french\\n(fra)</td>\n",
       "      <td>usa</td>\n",
       "    </tr>\n",
       "  </tbody>\n",
       "</table>\n",
       "</div>"
      ],
      "text/plain": [
       "     language_num     sex native_language english_residence\n",
       "319     english45    male  english\\n(eng)               usa\n",
       "862      german30  female   german\\n(deu)               usa\n",
       "1206      french7    male   french\\n(fra)            canada\n",
       "689    english553    male  english\\n(eng)               usa\n",
       "1171   english238  female  english\\n(eng)            canada\n",
       "280     arabic189  female   arabic\\n(ars)               usa\n",
       "984      korean97  female   korean\\n(kor)               usa\n",
       "456    english234    male  english\\n(eng)               usa\n",
       "812      french37    male   french\\n(fra)               usa\n",
       "816      french49    male   french\\n(fra)               usa"
      ]
     },
     "execution_count": 8,
     "metadata": {},
     "output_type": "execute_result"
    }
   ],
   "source": [
    "# remove \\n and select first one in native_bio_metadata['english_residence']\n",
    "native_bio_metadata['english_residence'] = native_bio_metadata['english_residence'].apply(lambda x: x.split('\\n')[0])\n",
    "native_bio_metadata.sample(10)"
   ]
  },
  {
   "cell_type": "code",
   "execution_count": 9,
   "metadata": {},
   "outputs": [
    {
     "data": {
      "text/plain": [
       "english_residence\n",
       "usa       1031\n",
       "uk         115\n",
       "canada      78\n",
       "Name: count, dtype: int64"
      ]
     },
     "execution_count": 9,
     "metadata": {},
     "output_type": "execute_result"
    }
   ],
   "source": [
    "# value counts\n",
    "native_bio_metadata['english_residence'].value_counts()"
   ]
  },
  {
   "cell_type": "code",
   "execution_count": 10,
   "metadata": {},
   "outputs": [
    {
     "data": {
      "text/plain": [
       "(1224, 4)"
      ]
     },
     "execution_count": 10,
     "metadata": {},
     "output_type": "execute_result"
    }
   ],
   "source": [
    "native_bio_metadata.shape"
   ]
  },
  {
   "cell_type": "code",
   "execution_count": 11,
   "metadata": {},
   "outputs": [],
   "source": [
    "# to categorical function\n",
    "def to_categorical(y):\n",
    "    lang_dict = {}\n",
    "    for index, language in enumerate(set(y)):\n",
    "        lang_dict[language] = index\n",
    "    y = list(map(lambda x: lang_dict[x],y))\n",
    "    return keras.utils.to_categorical(y, len(lang_dict)), lang_dict"
   ]
  },
  {
   "cell_type": "code",
   "execution_count": 12,
   "metadata": {},
   "outputs": [
    {
     "data": {
      "text/html": [
       "<div>\n",
       "<style scoped>\n",
       "    .dataframe tbody tr th:only-of-type {\n",
       "        vertical-align: middle;\n",
       "    }\n",
       "\n",
       "    .dataframe tbody tr th {\n",
       "        vertical-align: top;\n",
       "    }\n",
       "\n",
       "    .dataframe thead th {\n",
       "        text-align: right;\n",
       "    }\n",
       "</style>\n",
       "<table border=\"1\" class=\"dataframe\">\n",
       "  <thead>\n",
       "    <tr style=\"text-align: right;\">\n",
       "      <th></th>\n",
       "      <th>language_num</th>\n",
       "      <th>sex</th>\n",
       "      <th>native_language</th>\n",
       "      <th>english_residence</th>\n",
       "      <th>file</th>\n",
       "    </tr>\n",
       "  </thead>\n",
       "  <tbody>\n",
       "    <tr>\n",
       "      <th>0</th>\n",
       "      <td>mandarin1</td>\n",
       "      <td>female</td>\n",
       "      <td>mandarin\\n(cmn)</td>\n",
       "      <td>usa</td>\n",
       "      <td>data/audio/mandarin1.wav</td>\n",
       "    </tr>\n",
       "    <tr>\n",
       "      <th>1</th>\n",
       "      <td>mandarin2</td>\n",
       "      <td>female</td>\n",
       "      <td>mandarin\\n(cmn)</td>\n",
       "      <td>usa</td>\n",
       "      <td>data/audio/mandarin2.wav</td>\n",
       "    </tr>\n",
       "    <tr>\n",
       "      <th>2</th>\n",
       "      <td>mandarin3</td>\n",
       "      <td>male</td>\n",
       "      <td>mandarin\\n(cmn)</td>\n",
       "      <td>usa</td>\n",
       "      <td>data/audio/mandarin3.wav</td>\n",
       "    </tr>\n",
       "    <tr>\n",
       "      <th>3</th>\n",
       "      <td>mandarin4</td>\n",
       "      <td>female</td>\n",
       "      <td>mandarin\\n(cmn)</td>\n",
       "      <td>usa</td>\n",
       "      <td>data/audio/mandarin4.wav</td>\n",
       "    </tr>\n",
       "    <tr>\n",
       "      <th>4</th>\n",
       "      <td>mandarin5</td>\n",
       "      <td>female</td>\n",
       "      <td>mandarin\\n(cmn)</td>\n",
       "      <td>usa</td>\n",
       "      <td>data/audio/mandarin5.wav</td>\n",
       "    </tr>\n",
       "  </tbody>\n",
       "</table>\n",
       "</div>"
      ],
      "text/plain": [
       "  language_num     sex  native_language english_residence  \\\n",
       "0    mandarin1  female  mandarin\\n(cmn)               usa   \n",
       "1    mandarin2  female  mandarin\\n(cmn)               usa   \n",
       "2    mandarin3    male  mandarin\\n(cmn)               usa   \n",
       "3    mandarin4  female  mandarin\\n(cmn)               usa   \n",
       "4    mandarin5  female  mandarin\\n(cmn)               usa   \n",
       "\n",
       "                       file  \n",
       "0  data/audio/mandarin1.wav  \n",
       "1  data/audio/mandarin2.wav  \n",
       "2  data/audio/mandarin3.wav  \n",
       "3  data/audio/mandarin4.wav  \n",
       "4  data/audio/mandarin5.wav  "
      ]
     },
     "execution_count": 12,
     "metadata": {},
     "output_type": "execute_result"
    }
   ],
   "source": [
    "# add a new column 'file' with the full path of the audio file, the audio files are location in './data/native_combined/'\n",
    "native_bio_metadata.loc[:, 'file'] = native_bio_metadata['language_num'].apply(lambda x: f\"data/audio/{x}.wav\")\n",
    "native_bio_metadata.head()"
   ]
  },
  {
   "cell_type": "code",
   "execution_count": 13,
   "metadata": {},
   "outputs": [
    {
     "data": {
      "text/plain": [
       "english_residence\n",
       "usa       1031\n",
       "uk         115\n",
       "canada      78\n",
       "Name: count, dtype: int64"
      ]
     },
     "execution_count": 13,
     "metadata": {},
     "output_type": "execute_result"
    }
   ],
   "source": [
    "native_bio_metadata['english_residence'].value_counts()"
   ]
  },
  {
   "cell_type": "code",
   "execution_count": 14,
   "metadata": {},
   "outputs": [],
   "source": [
    "def get_transform_audio(file):\n",
    "    audio,rate = torchaudio.load(str(file))\n",
    "    transform = torchaudio.transforms.Resample(rate,RATE_HZ)\n",
    "    audio = transform(audio).squeeze(0).numpy()\n",
    "    audio = audio[:MAX_LENGTH] # truncate to first part of audio to save RAM\n",
    "    return audio"
   ]
  },
  {
   "cell_type": "code",
   "execution_count": 15,
   "metadata": {},
   "outputs": [
    {
     "name": "stderr",
     "output_type": "stream",
     "text": [
      "100%|██████████| 1224/1224 [01:08<00:00, 17.88it/s]\n"
     ]
    }
   ],
   "source": [
    "native_bio_metadata['audio'] = native_bio_metadata['file'].progress_apply(get_transform_audio)"
   ]
  },
  {
   "cell_type": "code",
   "execution_count": 16,
   "metadata": {},
   "outputs": [
    {
     "data": {
      "text/html": [
       "<div>\n",
       "<style scoped>\n",
       "    .dataframe tbody tr th:only-of-type {\n",
       "        vertical-align: middle;\n",
       "    }\n",
       "\n",
       "    .dataframe tbody tr th {\n",
       "        vertical-align: top;\n",
       "    }\n",
       "\n",
       "    .dataframe thead th {\n",
       "        text-align: right;\n",
       "    }\n",
       "</style>\n",
       "<table border=\"1\" class=\"dataframe\">\n",
       "  <thead>\n",
       "    <tr style=\"text-align: right;\">\n",
       "      <th></th>\n",
       "      <th>language_num</th>\n",
       "      <th>sex</th>\n",
       "      <th>native_language</th>\n",
       "      <th>english_residence</th>\n",
       "      <th>file</th>\n",
       "      <th>audio</th>\n",
       "    </tr>\n",
       "  </thead>\n",
       "  <tbody>\n",
       "    <tr>\n",
       "      <th>497</th>\n",
       "      <td>english293</td>\n",
       "      <td>female</td>\n",
       "      <td>english\\n(eng)</td>\n",
       "      <td>usa</td>\n",
       "      <td>data/audio/english293.wav</td>\n",
       "      <td>[-1.4186824e-06, 4.046085e-06, 8.578898e-06, -...</td>\n",
       "    </tr>\n",
       "    <tr>\n",
       "      <th>241</th>\n",
       "      <td>arabic150</td>\n",
       "      <td>female</td>\n",
       "      <td>arabic\\n(ars)</td>\n",
       "      <td>usa</td>\n",
       "      <td>data/audio/arabic150.wav</td>\n",
       "      <td>[-3.062122e-05, -1.8767698e-05, -1.9263782e-05...</td>\n",
       "    </tr>\n",
       "    <tr>\n",
       "      <th>1027</th>\n",
       "      <td>portuguese64</td>\n",
       "      <td>female</td>\n",
       "      <td>portuguese\\n(por)</td>\n",
       "      <td>usa</td>\n",
       "      <td>data/audio/portuguese64.wav</td>\n",
       "      <td>[2.6565354e-05, 5.313162e-06, 6.316313e-05, 3....</td>\n",
       "    </tr>\n",
       "    <tr>\n",
       "      <th>1205</th>\n",
       "      <td>english647</td>\n",
       "      <td>male</td>\n",
       "      <td>english\\n(eng)</td>\n",
       "      <td>canada</td>\n",
       "      <td>data/audio/english647.wav</td>\n",
       "      <td>[0.0, 0.0, 0.0, 0.0, 0.0, 0.0, 0.0, 0.0, 0.0, ...</td>\n",
       "    </tr>\n",
       "    <tr>\n",
       "      <th>1157</th>\n",
       "      <td>english64</td>\n",
       "      <td>female</td>\n",
       "      <td>english\\n(eng)</td>\n",
       "      <td>canada</td>\n",
       "      <td>data/audio/english64.wav</td>\n",
       "      <td>[-1.7002e-05, 3.5281541e-06, -6.498487e-06, 9....</td>\n",
       "    </tr>\n",
       "  </tbody>\n",
       "</table>\n",
       "</div>"
      ],
      "text/plain": [
       "      language_num     sex    native_language english_residence  \\\n",
       "497     english293  female     english\\n(eng)               usa   \n",
       "241      arabic150  female      arabic\\n(ars)               usa   \n",
       "1027  portuguese64  female  portuguese\\n(por)               usa   \n",
       "1205    english647    male     english\\n(eng)            canada   \n",
       "1157     english64  female     english\\n(eng)            canada   \n",
       "\n",
       "                             file  \\\n",
       "497     data/audio/english293.wav   \n",
       "241      data/audio/arabic150.wav   \n",
       "1027  data/audio/portuguese64.wav   \n",
       "1205    data/audio/english647.wav   \n",
       "1157     data/audio/english64.wav   \n",
       "\n",
       "                                                  audio  \n",
       "497   [-1.4186824e-06, 4.046085e-06, 8.578898e-06, -...  \n",
       "241   [-3.062122e-05, -1.8767698e-05, -1.9263782e-05...  \n",
       "1027  [2.6565354e-05, 5.313162e-06, 6.316313e-05, 3....  \n",
       "1205  [0.0, 0.0, 0.0, 0.0, 0.0, 0.0, 0.0, 0.0, 0.0, ...  \n",
       "1157  [-1.7002e-05, 3.5281541e-06, -6.498487e-06, 9....  "
      ]
     },
     "execution_count": 16,
     "metadata": {},
     "output_type": "execute_result"
    }
   ],
   "source": [
    "native_bio_metadata.sample(5)"
   ]
  },
  {
   "cell_type": "code",
   "execution_count": 17,
   "metadata": {},
   "outputs": [],
   "source": [
    "# create an upsampler\n",
    "from imblearn.over_sampling import RandomOverSampler\n",
    "from imblearn.under_sampling import RandomUnderSampler\n",
    "from collections import Counter\n",
    "\n",
    "ros = RandomOverSampler(random_state=42)\n",
    "X = native_bio_metadata.drop(columns=['native_language', 'sex'])\n",
    "y = native_bio_metadata['english_residence']\n",
    "X_resampled, y_resampled = ros.fit_resample(X, y)\n",
    "\n",
    "\n",
    "rus = RandomUnderSampler(random_state=42)\n",
    "X_resampled, y_resampled = rus.fit_resample(X, y)"
   ]
  },
  {
   "cell_type": "code",
   "execution_count": 18,
   "metadata": {},
   "outputs": [
    {
     "data": {
      "text/plain": [
       "english_residence\n",
       "canada    78\n",
       "uk        78\n",
       "usa       78\n",
       "Name: count, dtype: int64"
      ]
     },
     "execution_count": 18,
     "metadata": {},
     "output_type": "execute_result"
    }
   ],
   "source": [
    "X_resampled['english_residence'].value_counts()"
   ]
  },
  {
   "cell_type": "code",
   "execution_count": 19,
   "metadata": {},
   "outputs": [
    {
     "data": {
      "text/plain": [
       "((979,), (245,), (979,), (245,))"
      ]
     },
     "execution_count": 19,
     "metadata": {},
     "output_type": "execute_result"
    }
   ],
   "source": [
    "X = native_bio_metadata['audio'].values\n",
    "y = native_bio_metadata['english_residence'].values\n",
    "\n",
    "X_train, X_test, y_train, y_test = train_test_split(X, y, test_size=0.2, random_state=42, stratify=y)\n",
    "\n",
    "X_train.shape, X_test.shape, y_train.shape, y_test.shape"
   ]
  },
  {
   "cell_type": "code",
   "execution_count": 20,
   "metadata": {},
   "outputs": [
    {
     "name": "stdout",
     "output_type": "stream",
     "text": [
      "Train Count: Counter({'usa': 825, 'uk': 92, 'canada': 62})\n",
      "Test Count: Counter({'usa': 206, 'uk': 23, 'canada': 16})\n"
     ]
    }
   ],
   "source": [
    "# create a counter for train and test labels\n",
    "train_counter = Counter(y_train)\n",
    "test_counter = Counter(y_test)\n",
    "\n",
    "print(f\"Train Count: {train_counter}\")\n",
    "print(f\"Test Count: {test_counter}\")"
   ]
  },
  {
   "cell_type": "code",
   "execution_count": 21,
   "metadata": {},
   "outputs": [],
   "source": [
    "y_train_cat, _ = to_categorical(y_train)\n",
    "y_test_cat, lang_dict = to_categorical(y_test)"
   ]
  },
  {
   "cell_type": "code",
   "execution_count": 22,
   "metadata": {},
   "outputs": [
    {
     "data": {
      "text/plain": [
       "{'uk': 0, 'canada': 1, 'usa': 2}"
      ]
     },
     "execution_count": 22,
     "metadata": {},
     "output_type": "execute_result"
    }
   ],
   "source": [
    "lang_dict"
   ]
  },
  {
   "cell_type": "code",
   "execution_count": 23,
   "metadata": {},
   "outputs": [
    {
     "data": {
      "text/plain": [
       "array([ 1.1469562e-06,  3.4527941e-06, -5.3884582e-06, ...,\n",
       "        4.1928481e-02,  1.3955630e-02, -7.4105812e-03], dtype=float32)"
      ]
     },
     "execution_count": 23,
     "metadata": {},
     "output_type": "execute_result"
    }
   ],
   "source": [
    "X_train[0]"
   ]
  },
  {
   "cell_type": "code",
   "execution_count": 24,
   "metadata": {},
   "outputs": [],
   "source": [
    "# create pytorch model to train the data on\n",
    "class AcousticDataset(Dataset):\n",
    "    def __init__(self, X, y):\n",
    "        self.X = X\n",
    "        self.y = y\n",
    "\n",
    "    def __len__(self):\n",
    "        return len(self.X)\n",
    "\n",
    "    def __getitem__(self, idx):\n",
    "        # Concatenate the features within each sample\n",
    "        features = torch.tensor(self.X[idx], dtype=torch.float32)\n",
    "        label = torch.tensor(self.y[idx], dtype=torch.long)  # self.y[idx] is the label index\n",
    "        return features, label"
   ]
  },
  {
   "cell_type": "code",
   "execution_count": 25,
   "metadata": {},
   "outputs": [],
   "source": [
    "train_dataset = AcousticDataset(X_train, y_train_cat)\n",
    "train_loader = DataLoader(train_dataset, batch_size=32, shuffle=True)"
   ]
  },
  {
   "cell_type": "code",
   "execution_count": 26,
   "metadata": {},
   "outputs": [],
   "source": [
    "# create the data loaders\n",
    "val_dataset = AcousticDataset(X_test, y_test_cat)\n",
    "val_loader = DataLoader(val_dataset, batch_size=32, shuffle=True)"
   ]
  },
  {
   "cell_type": "code",
   "execution_count": 27,
   "metadata": {},
   "outputs": [
    {
     "data": {
      "text/plain": [
       "128000"
      ]
     },
     "execution_count": 27,
     "metadata": {},
     "output_type": "execute_result"
    }
   ],
   "source": [
    "# Get the dimension of the input feature\n",
    "input_dim = train_dataset[0][0].shape[0]\n",
    "input_dim"
   ]
  },
  {
   "cell_type": "code",
   "execution_count": 28,
   "metadata": {},
   "outputs": [],
   "source": [
    "# Get the dimension of the input feature\n",
    "# input_dim = train_dataset[0][0].shape[0] + train_dataset[0][1].shape[0]\n",
    "\n",
    "# input_dim = 42\n",
    "\n",
    "model = nn.Sequential(\n",
    "    nn.Linear(input_dim, 128),  # Change this to match input size 8, 16, 32, 64, 128, 256, 512, 1024, 2048\n",
    "    nn.ReLU(),\n",
    "    nn.Linear(128, 64),\n",
    "    nn.ReLU(),\n",
    "    nn.Linear(64, 32),\n",
    "    nn.ReLU(),\n",
    "    nn.Linear(32, 16),\n",
    "    nn.ReLU(),\n",
    "    nn.Linear(16, len(lang_dict))\n",
    ")\n",
    "\n",
    "# Define the loss function and optimizer\n",
    "criterion = nn.CrossEntropyLoss()\n",
    "optimizer = torch.optim.SGD(model.parameters(), lr=0.01, momentum=0.9)"
   ]
  },
  {
   "cell_type": "code",
   "execution_count": 29,
   "metadata": {},
   "outputs": [
    {
     "name": "stdout",
     "output_type": "stream",
     "text": [
      "Epoch 1/50 Train Loss: 0.7782 Val Loss: 0.5606\n",
      "Epoch 2/50 Train Loss: 0.5478 Val Loss: 0.5483\n",
      "Epoch 3/50 Train Loss: 0.5420 Val Loss: 0.5464\n",
      "Epoch 4/50 Train Loss: 0.5400 Val Loss: 0.5466\n",
      "Epoch 5/50 Train Loss: 0.5393 Val Loss: 0.5464\n",
      "Epoch 6/50 Train Loss: 0.5374 Val Loss: 0.5466\n",
      "Epoch 7/50 Train Loss: 0.5360 Val Loss: 0.5477\n",
      "Epoch 8/50 Train Loss: 0.5317 Val Loss: 0.5477\n",
      "Epoch 9/50 Train Loss: 0.5249 Val Loss: 0.5492\n",
      "Epoch 10/50 Train Loss: 0.5113 Val Loss: 0.5532\n",
      "Epoch 11/50 Train Loss: 0.4772 Val Loss: 0.5648\n",
      "Epoch 12/50 Train Loss: 0.3928 Val Loss: 0.6125\n",
      "Epoch 13/50 Train Loss: 0.2796 Val Loss: 0.7366\n",
      "Epoch 14/50 Train Loss: 0.2302 Val Loss: 0.8504\n",
      "Epoch 15/50 Train Loss: 0.2100 Val Loss: 0.9048\n",
      "Epoch 16/50 Train Loss: 0.2033 Val Loss: 0.9476\n",
      "Epoch 17/50 Train Loss: 0.2147 Val Loss: 0.9236\n",
      "Epoch 18/50 Train Loss: 0.2015 Val Loss: 0.8630\n",
      "Epoch 19/50 Train Loss: 0.1982 Val Loss: 0.9163\n",
      "Epoch 20/50 Train Loss: 0.1927 Val Loss: 0.9413\n",
      "Epoch 21/50 Train Loss: 0.1915 Val Loss: 0.9906\n",
      "Epoch 22/50 Train Loss: 0.2033 Val Loss: 0.9561\n",
      "Epoch 23/50 Train Loss: 0.1937 Val Loss: 0.9469\n",
      "Epoch 24/50 Train Loss: 0.1968 Val Loss: 0.9820\n",
      "Epoch 25/50 Train Loss: 0.1889 Val Loss: 0.9378\n",
      "Epoch 26/50 Train Loss: 0.1905 Val Loss: 0.9633\n",
      "Epoch 27/50 Train Loss: 0.1864 Val Loss: 0.9737\n",
      "Epoch 28/50 Train Loss: 0.1822 Val Loss: 0.9622\n",
      "Epoch 29/50 Train Loss: 0.1786 Val Loss: 1.0071\n",
      "Epoch 30/50 Train Loss: 0.1733 Val Loss: 1.0379\n",
      "Epoch 31/50 Train Loss: 0.1684 Val Loss: 1.0293\n",
      "Epoch 32/50 Train Loss: 0.1632 Val Loss: 1.0745\n",
      "Epoch 33/50 Train Loss: 0.1602 Val Loss: 1.0687\n",
      "Epoch 34/50 Train Loss: 0.1588 Val Loss: 1.1004\n",
      "Epoch 35/50 Train Loss: 0.1555 Val Loss: 1.1239\n",
      "Epoch 36/50 Train Loss: 0.1539 Val Loss: 1.1421\n",
      "Epoch 37/50 Train Loss: 0.1512 Val Loss: 1.1679\n",
      "Epoch 38/50 Train Loss: 0.1493 Val Loss: 1.1713\n",
      "Epoch 39/50 Train Loss: 0.1483 Val Loss: 1.1733\n",
      "Epoch 40/50 Train Loss: 0.1421 Val Loss: 1.2162\n",
      "Epoch 41/50 Train Loss: 0.1353 Val Loss: 1.2252\n",
      "Epoch 42/50 Train Loss: 0.1264 Val Loss: 1.2460\n",
      "Epoch 43/50 Train Loss: 0.1130 Val Loss: 1.2430\n",
      "Epoch 44/50 Train Loss: 0.0983 Val Loss: 1.2590\n",
      "Epoch 45/50 Train Loss: 0.0889 Val Loss: 1.2876\n",
      "Epoch 46/50 Train Loss: 0.0801 Val Loss: 1.3250\n",
      "Epoch 47/50 Train Loss: 0.0755 Val Loss: 1.3099\n",
      "Epoch 48/50 Train Loss: 0.0731 Val Loss: 1.3543\n",
      "Epoch 49/50 Train Loss: 0.0716 Val Loss: 1.3561\n",
      "Epoch 50/50 Train Loss: 0.0699 Val Loss: 1.3733\n"
     ]
    }
   ],
   "source": [
    "# Train the model\n",
    "n_epochs = 50\n",
    "train_losses = []\n",
    "val_losses = []\n",
    "\n",
    "for epoch in range(n_epochs):\n",
    "    model.train()\n",
    "    train_loss = 0.0\n",
    "    for data, target in train_loader:\n",
    "        optimizer.zero_grad()\n",
    "        # print(target)\n",
    "        target_indices = torch.argmax(target, dim=1)\n",
    "        # data = data.unsqueeze(1)\n",
    "        # Assuming data has shape (batch_size, 42)\n",
    "        output = model(data)\n",
    "        loss = criterion(output, target_indices)\n",
    "        loss.backward()\n",
    "        optimizer.step()\n",
    "        train_loss += loss.item() * data.size(0)\n",
    "    train_loss = train_loss / len(train_loader.dataset)\n",
    "    train_losses.append(train_loss)\n",
    "\n",
    "    model.eval()\n",
    "    val_loss = 0.0\n",
    "    for data, target in val_loader:\n",
    "        target_indices = torch.argmax(target, dim=1)\n",
    "        # data = data.unsqueeze(1)\n",
    "        output = model(data)\n",
    "        loss = criterion(output, target_indices)\n",
    "        val_loss += loss.item() * data.size(0)\n",
    "    val_loss = val_loss / len(val_loader.dataset)\n",
    "    val_losses.append(val_loss)\n",
    "\n",
    "    print(f\"Epoch {epoch+1}/{n_epochs} Train Loss: {train_loss:.4f} Val Loss: {val_loss:.4f}\")\n"
   ]
  },
  {
   "cell_type": "code",
   "execution_count": 30,
   "metadata": {},
   "outputs": [
    {
     "data": {
      "image/png": "[encoded data removed]",
      "text/plain": [
       "<Figure size 640x480 with 1 Axes>"
      ]
     },
     "metadata": {},
     "output_type": "display_data"
    }
   ],
   "source": [
    "# plot the training and validation loss\n",
    "plt.plot(train_losses, label='train')\n",
    "plt.plot(val_losses, label='val')\n",
    "plt.legend()\n",
    "plt.show()\n"
   ]
  },
  {
   "cell_type": "code",
   "execution_count": 31,
   "metadata": {},
   "outputs": [
    {
     "name": "stdout",
     "output_type": "stream",
     "text": [
      "Accuracy: 0.80\n"
     ]
    }
   ],
   "source": [
    "# get the accuracy of the model\n",
    "correct = 0\n",
    "total = 0\n",
    "with torch.no_grad():\n",
    "    for data, target in val_loader:\n",
    "        target_indices = torch.argmax(target, dim=1)\n",
    "        output = model(data)\n",
    "        _, predicted = torch.max(output.data, 1)\n",
    "        total += target.size(0)\n",
    "        correct += (predicted == target_indices).sum().item()\n",
    "        \n",
    "print(f\"Accuracy: {correct / total:.2f}\")"
   ]
  },
  {
   "cell_type": "code",
   "execution_count": null,
   "metadata": {},
   "outputs": [],
   "source": []
  },
  {
   "cell_type": "code",
   "execution_count": null,
   "metadata": {},
   "outputs": [],
   "source": []
  },
  {
   "cell_type": "code",
   "execution_count": null,
   "metadata": {},
   "outputs": [],
   "source": []
  }
 ],
 "metadata": {
  "kernelspec": {
   "display_name": "Python 3",
   "language": "python",
   "name": "python3"
  },
  "language_info": {
   "codemirror_mode": {
    "name": "ipython",
    "version": 3
   },
   "file_extension": ".py",
   "mimetype": "text/x-python",
   "name": "python",
   "nbconvert_exporter": "python",
   "pygments_lexer": "ipython3",
   "version": "3.11.7"
  }
 },
 "nbformat": 4,
 "nbformat_minor": 2
}
